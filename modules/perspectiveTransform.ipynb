{
 "cells": [
  {
   "cell_type": "code",
   "execution_count": 48,
   "metadata": {},
   "outputs": [],
   "source": [
    "import numpy as np\n",
    "import cv2\n",
    "\n",
    "image = cv2.imread('test_image.jpg')\n",
    "image = cv2.cvtColor(image, cv2.COLOR_BGR2RGB)"
   ]
  },
  {
   "cell_type": "code",
   "execution_count": 49,
   "metadata": {},
   "outputs": [
    {
     "name": "stderr",
     "output_type": "stream",
     "text": [
      "C:\\Users\\ADMIN\\anaconda3\\envs\\narya\\lib\\site-packages\\keras\\layers\\core\\lambda_layer.py:305: UserWarning: onnx2keras.pooling_layers is not loaded, but a Lambda layer uses it. It may cause errors.\n",
      "  'function_type')\n",
      "C:\\Users\\ADMIN\\anaconda3\\envs\\narya\\lib\\site-packages\\keras\\layers\\core\\lambda_layer.py:305: UserWarning: onnx2keras.reshape_layers is not loaded, but a Lambda layer uses it. It may cause errors.\n",
      "  'function_type')\n"
     ]
    },
    {
     "name": "stdout",
     "output_type": "stream",
     "text": [
      "WARNING:tensorflow:No training configuration found in the save file, so the model was *not* compiled. Compile it manually.\n"
     ]
    }
   ],
   "source": [
    "from narya.models.keras_models import DeepHomoModel\n",
    "\n",
    "direct_homography_model = DeepHomoModel()"
   ]
  },
  {
   "cell_type": "code",
   "execution_count": 50,
   "metadata": {},
   "outputs": [],
   "source": [
    "import tensorflow as tf"
   ]
  },
  {
   "cell_type": "code",
   "execution_count": 51,
   "metadata": {},
   "outputs": [
    {
     "name": "stdout",
     "output_type": "stream",
     "text": [
      "Succesfully loaded weights from C:\\Users\\ADMIN\\.keras\\datasets\\deep_homo_model.h5\n"
     ]
    }
   ],
   "source": [
    "WEIGHTS_PATH = (\n",
    "    \"https://storage.googleapis.com/narya-bucket-1/models/deep_homo_model.h5\"\n",
    ")\n",
    "WEIGHTS_NAME = \"deep_homo_model.h5\"\n",
    "WEIGHTS_TOTAR = False\n",
    "\n",
    "checkpoints = tf.keras.utils.get_file(\n",
    "                WEIGHTS_NAME, WEIGHTS_PATH, WEIGHTS_TOTAR,\n",
    "            )\n",
    "\n",
    "direct_homography_model.load_weights(checkpoints)"
   ]
  },
  {
   "cell_type": "code",
   "execution_count": 55,
   "metadata": {},
   "outputs": [],
   "source": [
    "from narya.models.keras_models import KeypointDetectorModel\n",
    "from narya.utils.homography import *"
   ]
  },
  {
   "cell_type": "code",
   "execution_count": 53,
   "metadata": {},
   "outputs": [],
   "source": [
    "import kornia as K"
   ]
  },
  {
   "cell_type": "code",
   "execution_count": 61,
   "metadata": {},
   "outputs": [],
   "source": [
    "def get_perspective_transform_torch(src, dst):\n",
    "    \"\"\"Get the homography matrix between src and dst\n",
    "\n",
    "    Arguments:\n",
    "        src: Tensor of shape (B,4,2), the four original points per image\n",
    "        dst: Tensor of shape (B,4,2), the four corresponding points per image\n",
    "    Returns:\n",
    "        A tensor of shape (B,3,3), each homography per image\n",
    "    Raises:\n",
    "\n",
    "    \"\"\"\n",
    "    return K.geometry.get_perspective_transform(src, dst)"
   ]
  },
  {
   "cell_type": "code",
   "execution_count": 59,
   "metadata": {},
   "outputs": [],
   "source": [
    "def compute_homography(batch_corners_pred):\n",
    "    \"\"\"Compute the homography from the predictions of DeepHomoModel\n",
    "\n",
    "    Arguments:\n",
    "        batch_corners_pred: np.array of shape (B,8) with the predictions\n",
    "    Returns:\n",
    "        np.array of shape (B,3,3) with the homographies\n",
    "    Raises:\n",
    "        \n",
    "    \"\"\"\n",
    "    batch_size = batch_corners_pred.shape[0]\n",
    "    corners = get_corners_from_nn(batch_corners_pred)\n",
    "    orig_corners = get_default_corners(batch_size)\n",
    "    homography = get_perspective_transform_torch(\n",
    "        to_torch(orig_corners), to_torch(corners)\n",
    "    )\n",
    "    return to_numpy(homography)"
   ]
  },
  {
   "cell_type": "code",
   "execution_count": 62,
   "metadata": {},
   "outputs": [
    {
     "name": "stdout",
     "output_type": "stream",
     "text": [
      "Predicted homography: [[ 3.3973148e-01 -1.2924273e-03  4.6077055e-01]\n",
      " [ 3.0281150e-01  1.7163653e+00  4.9089946e-02]\n",
      " [ 4.1546315e-02  1.5496986e+00  1.0000000e+00]]\n"
     ]
    }
   ],
   "source": [
    "corners = direct_homography_model(image)\n",
    "template = cv2.imread('world_cup_template.png')\n",
    "template = cv2.cvtColor(template, cv2.COLOR_BGR2RGB)\n",
    "template = cv2.resize(template, (1280,720))/255.\n",
    "pred_homo = compute_homography(corners)[0]\n",
    "print(\"Predicted homography: {}\".format(pred_homo))"
   ]
  }
 ],
 "metadata": {
  "interpreter": {
   "hash": "95c10dbc6f7eccef0c1ace84822d618f7863d3bc26cab307fc0169bb43c23fbe"
  },
  "kernelspec": {
   "display_name": "Python 3.8.5 ('base')",
   "language": "python",
   "name": "python3"
  },
  "language_info": {
   "codemirror_mode": {
    "name": "ipython",
    "version": 3
   },
   "file_extension": ".py",
   "mimetype": "text/x-python",
   "name": "python",
   "nbconvert_exporter": "python",
   "pygments_lexer": "ipython3",
   "version": "3.7.0"
  },
  "orig_nbformat": 4
 },
 "nbformat": 4,
 "nbformat_minor": 2
}
